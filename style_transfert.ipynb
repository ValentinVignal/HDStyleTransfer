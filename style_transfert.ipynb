{
  "nbformat": 4,
  "nbformat_minor": 0,
  "metadata": {
    "colab": {
      "name": "style_transfert.ipynb",
      "provenance": [],
      "collapsed_sections": [],
      "toc_visible": true,
      "authorship_tag": "ABX9TyM2k+A7E6guvF1k64fBpeGm",
      "include_colab_link": true
    },
    "kernelspec": {
      "name": "python3",
      "display_name": "Python 3"
    },
    "accelerator": "GPU"
  },
  "cells": [
    {
      "cell_type": "markdown",
      "metadata": {
        "id": "view-in-github",
        "colab_type": "text"
      },
      "source": [
        "<a href=\"https://colab.research.google.com/github/ValentinVignal/HDStyleTransfert/blob/google-colab/style_transfert.ipynb\" target=\"_parent\"><img src=\"https://colab.research.google.com/assets/colab-badge.svg\" alt=\"Open In Colab\"/></a>"
      ]
    },
    {
      "cell_type": "markdown",
      "metadata": {
        "id": "RvjtC4sveIST",
        "colab_type": "text"
      },
      "source": [
        "# HD Style transfert\n",
        "\n",
        "## Utilisation\n",
        "\n",
        "1. Create 1 folders on your computer names *content* and *style*\n",
        "2. Put the corresponding images in it\n",
        "3. Creat 2 `.zip` files: `content.zip` and `style.zip`\n",
        "4. Import them in the session (column on the left)\n",
        "5. Run everything\n",
        "\n",
        "## What it does\n",
        "\n",
        "It does all the combinaison of the content and style files and do the style transfert. It saves everything in the folder *results* with the architecture:\n",
        "```bash\n",
        "results/\n",
        " |- content_image_name1/\n",
        " |  |- style_image_name1/\n",
        " |  |  |- n_step.png          # The style transfered image at the step n\n",
        " |  |  |- 2n_step.png\n",
        " |  |  |- ...\n",
        " |  |- style_image_name2/\n",
        " |  |  |- n_step.png\n",
        " |  |  |- 2n_step.png\n",
        " |  |  |- ...\n",
        " |  |- ...\n",
        " |- content_image_name2/\n",
        " |  |- style_image_name1/\n",
        " |  |  |- n_step.png\n",
        " |  |  |- 2n_step.png\n",
        " |  |  |- ...\n",
        " |  |- style_image_name2/\n",
        " |  |  |- n_step.png\n",
        " |  |  |- 2n_step.png\n",
        " |  |  |- ...\n",
        " |  |- ...\n",
        " |- ...\n",
        "\n",
        "```\n",
        "\n",
        "## To keep the environment connected\n",
        "\n",
        "1. Press `Ctrl` + ` Shift` + `i`\n",
        "2. Go to *Console*\n",
        "3. Paste these lines:\n",
        "  ```javascript\n",
        "  function ClickConnect(){\n",
        "    console.log(\"Working\"); \n",
        "    document.querySelector(\"colab-toolbar-button#connect\").click(); \n",
        "  }\n",
        "  setInterval(ClickConnect,60000);\n",
        "  ```\n",
        "4. Press `Enter`\n",
        "\n"
      ]
    },
    {
      "cell_type": "markdown",
      "metadata": {
        "id": "tyuqK6mlft2T",
        "colab_type": "text"
      },
      "source": [
        "# Setup"
      ]
    },
    {
      "cell_type": "code",
      "metadata": {
        "id": "4FKw2is-ahsV",
        "colab_type": "code",
        "colab": {
          "base_uri": "https://localhost:8080/",
          "height": 50
        },
        "outputId": "9689a091-6f3f-4738-f69c-c3a179db8690"
      },
      "source": [
        "# Install tensorflow\n",
        "try:\n",
        "  # %tensroflow_version only exists in Colab\n",
        "  %tensorflow_version 2.x\n",
        "except Exception:\n",
        "  pass\n",
        "import tensorflow as tf\n",
        "print(tf.test.gpu_device_name())\n",
        "print('tf version', tf.__version__)"
      ],
      "execution_count": 1,
      "outputs": [
        {
          "output_type": "stream",
          "text": [
            "/device:GPU:0\n",
            "tf version 2.2.0\n"
          ],
          "name": "stdout"
        }
      ]
    },
    {
      "cell_type": "code",
      "metadata": {
        "id": "RlEj2w8Nf0zz",
        "colab_type": "code",
        "colab": {
          "base_uri": "https://localhost:8080/",
          "height": 151
        },
        "outputId": "cbbe0f51-3bb8-4bf7-e74d-a48e8c5b87ea"
      },
      "source": [
        "# Clone the github repo\n",
        "!git init\n",
        "!git clone https://github.com/ValentinVignal/HDStyleTransfert.git\n",
        "# Go in it\n",
        "%cd HDStyleTransfert/"
      ],
      "execution_count": 2,
      "outputs": [
        {
          "output_type": "stream",
          "text": [
            "Initialized empty Git repository in /content/.git/\n",
            "Cloning into 'HDStyleTransfert'...\n",
            "remote: Enumerating objects: 84, done.\u001b[K\n",
            "remote: Counting objects: 100% (84/84), done.\u001b[K\n",
            "remote: Compressing objects: 100% (66/66), done.\u001b[K\n",
            "remote: Total 84 (delta 38), reused 42 (delta 14), pack-reused 0\u001b[K\n",
            "Unpacking objects: 100% (84/84), done.\n",
            "/content/HDStyleTransfert\n"
          ],
          "name": "stdout"
        }
      ]
    },
    {
      "cell_type": "code",
      "metadata": {
        "id": "dj4hxZoag7t3",
        "colab_type": "code",
        "colab": {
          "base_uri": "https://localhost:8080/",
          "height": 255
        },
        "outputId": "9cd0b6c6-a4d4-476d-f655-16d1dce6a5bc"
      },
      "source": [
        "# Install dependencies except tensorflow\n",
        "%pip install $(grep -ivE \"tensorflow|Pillow\" requirements.txt)"
      ],
      "execution_count": 3,
      "outputs": [
        {
          "output_type": "stream",
          "text": [
            "Requirement already satisfied: numpy==1.18.4 in /usr/local/lib/python3.6/dist-packages (1.18.4)\n",
            "Requirement already satisfied: matplotlib==3.2.1 in /usr/local/lib/python3.6/dist-packages (3.2.1)\n",
            "Collecting load_bar==0.0.3\n",
            "  Downloading https://files.pythonhosted.org/packages/74/4d/f84173d69da8f68add482480f9bdf5a339152a4c38141fd5670130cd1325/load_bar-0.0.3-py3-none-any.whl\n",
            "Collecting epic_path==0.1.0\n",
            "  Downloading https://files.pythonhosted.org/packages/19/d1/9bf68f2ac88983078da4a6e64070400829ed0d3e968173be2878439d11b6/epic_path-0.1.0-py3-none-any.whl\n",
            "Requirement already satisfied: cycler>=0.10 in /usr/local/lib/python3.6/dist-packages (from matplotlib==3.2.1) (0.10.0)\n",
            "Requirement already satisfied: kiwisolver>=1.0.1 in /usr/local/lib/python3.6/dist-packages (from matplotlib==3.2.1) (1.2.0)\n",
            "Requirement already satisfied: python-dateutil>=2.1 in /usr/local/lib/python3.6/dist-packages (from matplotlib==3.2.1) (2.8.1)\n",
            "Requirement already satisfied: pyparsing!=2.0.4,!=2.1.2,!=2.1.6,>=2.0.1 in /usr/local/lib/python3.6/dist-packages (from matplotlib==3.2.1) (2.4.7)\n",
            "Requirement already satisfied: six in /usr/local/lib/python3.6/dist-packages (from cycler>=0.10->matplotlib==3.2.1) (1.12.0)\n",
            "Installing collected packages: load-bar, epic-path\n",
            "Successfully installed epic-path-0.1.0 load-bar-0.0.3\n"
          ],
          "name": "stdout"
        }
      ]
    },
    {
      "cell_type": "markdown",
      "metadata": {
        "id": "eFenCI8UlKyR",
        "colab_type": "text"
      },
      "source": [
        "Parameters"
      ]
    },
    {
      "cell_type": "code",
      "metadata": {
        "id": "qTs4xyXUlNLi",
        "colab_type": "code",
        "colab": {}
      },
      "source": [
        "all_images = False     # To do all the combinaisons of the images"
      ],
      "execution_count": 0,
      "outputs": []
    },
    {
      "cell_type": "markdown",
      "metadata": {
        "id": "tFKdcoiCijqI",
        "colab_type": "text"
      },
      "source": [
        "# Run"
      ]
    },
    {
      "cell_type": "code",
      "metadata": {
        "id": "aQsab2zvilHK",
        "colab_type": "code",
        "colab": {
          "base_uri": "https://localhost:8080/",
          "height": 1000
        },
        "outputId": "e8a9e70c-b2d6-4bde-d8bc-a453d628f9a5"
      },
      "source": [
        "import os\n",
        "from epicpath import EPath\n",
        "\n",
        "# num_content = len(EPath('content').listdir())\n",
        "# num_style = len(EPath('style').listdir())\n",
        "# for i in range(num_content * num_style):\n",
        "#   os.system('python style_transfert.py')    # Launch the style tranfert for the next combinaison\n",
        "#   if not all_images:\n",
        "#     # Do only one image\n",
        "#     break\n",
        "\n",
        "# os.system('python style_transfert.py')\n",
        "!python style_transfert.py"
      ],
      "execution_count": 8,
      "outputs": [
        {
          "output_type": "stream",
          "text": [
            "2020-05-27 10:36:52.592248: I tensorflow/stream_executor/platform/default/dso_loader.cc:44] Successfully opened dynamic library libcudart.so.10.1\n",
            "Downloading data from https://storage.googleapis.com/download.tensorflow.org/example_images/YellowLabradorLooking_new.jpg\n",
            "90112/83281 [================================] - 0s 0us/step\n",
            "Downloading data from https://storage.googleapis.com/download.tensorflow.org/example_images/Vassily_Kandinsky%2C_1913_-_Composition_7.jpg\n",
            "196608/195196 [==============================] - 0s 0us/step\n",
            "2020-05-27 10:36:55.032042: I tensorflow/stream_executor/platform/default/dso_loader.cc:44] Successfully opened dynamic library libcuda.so.1\n",
            "2020-05-27 10:36:55.035105: I tensorflow/stream_executor/cuda/cuda_gpu_executor.cc:981] successful NUMA node read from SysFS had negative value (-1), but there must be at least one NUMA node, so returning NUMA node zero\n",
            "2020-05-27 10:36:55.035857: I tensorflow/core/common_runtime/gpu/gpu_device.cc:1561] Found device 0 with properties: \n",
            "pciBusID: 0000:00:04.0 name: Tesla K80 computeCapability: 3.7\n",
            "coreClock: 0.8235GHz coreCount: 13 deviceMemorySize: 11.17GiB deviceMemoryBandwidth: 223.96GiB/s\n",
            "2020-05-27 10:36:55.035907: I tensorflow/stream_executor/platform/default/dso_loader.cc:44] Successfully opened dynamic library libcudart.so.10.1\n",
            "2020-05-27 10:36:55.038023: I tensorflow/stream_executor/platform/default/dso_loader.cc:44] Successfully opened dynamic library libcublas.so.10\n",
            "2020-05-27 10:36:55.039866: I tensorflow/stream_executor/platform/default/dso_loader.cc:44] Successfully opened dynamic library libcufft.so.10\n",
            "2020-05-27 10:36:55.040201: I tensorflow/stream_executor/platform/default/dso_loader.cc:44] Successfully opened dynamic library libcurand.so.10\n",
            "2020-05-27 10:36:55.042347: I tensorflow/stream_executor/platform/default/dso_loader.cc:44] Successfully opened dynamic library libcusolver.so.10\n",
            "2020-05-27 10:36:55.043499: I tensorflow/stream_executor/platform/default/dso_loader.cc:44] Successfully opened dynamic library libcusparse.so.10\n",
            "2020-05-27 10:36:55.047897: I tensorflow/stream_executor/platform/default/dso_loader.cc:44] Successfully opened dynamic library libcudnn.so.7\n",
            "2020-05-27 10:36:55.048012: I tensorflow/stream_executor/cuda/cuda_gpu_executor.cc:981] successful NUMA node read from SysFS had negative value (-1), but there must be at least one NUMA node, so returning NUMA node zero\n",
            "2020-05-27 10:36:55.048908: I tensorflow/stream_executor/cuda/cuda_gpu_executor.cc:981] successful NUMA node read from SysFS had negative value (-1), but there must be at least one NUMA node, so returning NUMA node zero\n",
            "2020-05-27 10:36:55.049704: I tensorflow/core/common_runtime/gpu/gpu_device.cc:1703] Adding visible gpu devices: 0\n",
            "2020-05-27 10:36:55.056131: I tensorflow/core/platform/profile_utils/cpu_utils.cc:102] CPU Frequency: 2200000000 Hz\n",
            "2020-05-27 10:36:55.056369: I tensorflow/compiler/xla/service/service.cc:168] XLA service 0x2ba7100 initialized for platform Host (this does not guarantee that XLA will be used). Devices:\n",
            "2020-05-27 10:36:55.056414: I tensorflow/compiler/xla/service/service.cc:176]   StreamExecutor device (0): Host, Default Version\n",
            "2020-05-27 10:36:55.108419: I tensorflow/stream_executor/cuda/cuda_gpu_executor.cc:981] successful NUMA node read from SysFS had negative value (-1), but there must be at least one NUMA node, so returning NUMA node zero\n",
            "2020-05-27 10:36:55.109316: I tensorflow/compiler/xla/service/service.cc:168] XLA service 0x2ba72c0 initialized for platform CUDA (this does not guarantee that XLA will be used). Devices:\n",
            "2020-05-27 10:36:55.109351: I tensorflow/compiler/xla/service/service.cc:176]   StreamExecutor device (0): Tesla K80, Compute Capability 3.7\n",
            "2020-05-27 10:36:55.109575: I tensorflow/stream_executor/cuda/cuda_gpu_executor.cc:981] successful NUMA node read from SysFS had negative value (-1), but there must be at least one NUMA node, so returning NUMA node zero\n",
            "2020-05-27 10:36:55.110302: I tensorflow/core/common_runtime/gpu/gpu_device.cc:1561] Found device 0 with properties: \n",
            "pciBusID: 0000:00:04.0 name: Tesla K80 computeCapability: 3.7\n",
            "coreClock: 0.8235GHz coreCount: 13 deviceMemorySize: 11.17GiB deviceMemoryBandwidth: 223.96GiB/s\n",
            "2020-05-27 10:36:55.110354: I tensorflow/stream_executor/platform/default/dso_loader.cc:44] Successfully opened dynamic library libcudart.so.10.1\n",
            "2020-05-27 10:36:55.110408: I tensorflow/stream_executor/platform/default/dso_loader.cc:44] Successfully opened dynamic library libcublas.so.10\n",
            "2020-05-27 10:36:55.110444: I tensorflow/stream_executor/platform/default/dso_loader.cc:44] Successfully opened dynamic library libcufft.so.10\n",
            "2020-05-27 10:36:55.110480: I tensorflow/stream_executor/platform/default/dso_loader.cc:44] Successfully opened dynamic library libcurand.so.10\n",
            "2020-05-27 10:36:55.110517: I tensorflow/stream_executor/platform/default/dso_loader.cc:44] Successfully opened dynamic library libcusolver.so.10\n",
            "2020-05-27 10:36:55.110554: I tensorflow/stream_executor/platform/default/dso_loader.cc:44] Successfully opened dynamic library libcusparse.so.10\n",
            "2020-05-27 10:36:55.110615: I tensorflow/stream_executor/platform/default/dso_loader.cc:44] Successfully opened dynamic library libcudnn.so.7\n",
            "2020-05-27 10:36:55.110700: I tensorflow/stream_executor/cuda/cuda_gpu_executor.cc:981] successful NUMA node read from SysFS had negative value (-1), but there must be at least one NUMA node, so returning NUMA node zero\n",
            "2020-05-27 10:36:55.111431: I tensorflow/stream_executor/cuda/cuda_gpu_executor.cc:981] successful NUMA node read from SysFS had negative value (-1), but there must be at least one NUMA node, so returning NUMA node zero\n",
            "2020-05-27 10:36:55.112112: I tensorflow/core/common_runtime/gpu/gpu_device.cc:1703] Adding visible gpu devices: 0\n",
            "2020-05-27 10:36:55.112167: I tensorflow/stream_executor/platform/default/dso_loader.cc:44] Successfully opened dynamic library libcudart.so.10.1\n",
            "2020-05-27 10:36:55.523361: I tensorflow/core/common_runtime/gpu/gpu_device.cc:1102] Device interconnect StreamExecutor with strength 1 edge matrix:\n",
            "2020-05-27 10:36:55.523426: I tensorflow/core/common_runtime/gpu/gpu_device.cc:1108]      0 \n",
            "2020-05-27 10:36:55.523446: I tensorflow/core/common_runtime/gpu/gpu_device.cc:1121] 0:   N \n",
            "2020-05-27 10:36:55.523732: I tensorflow/stream_executor/cuda/cuda_gpu_executor.cc:981] successful NUMA node read from SysFS had negative value (-1), but there must be at least one NUMA node, so returning NUMA node zero\n",
            "2020-05-27 10:36:55.524499: I tensorflow/stream_executor/cuda/cuda_gpu_executor.cc:981] successful NUMA node read from SysFS had negative value (-1), but there must be at least one NUMA node, so returning NUMA node zero\n",
            "2020-05-27 10:36:55.525307: W tensorflow/core/common_runtime/gpu/gpu_bfc_allocator.cc:39] Overriding allow_growth setting because the TF_FORCE_GPU_ALLOW_GROWTH environment variable is set. Original config value was 0.\n",
            "2020-05-27 10:36:55.525488: I tensorflow/core/common_runtime/gpu/gpu_device.cc:1247] Created TensorFlow device (/job:localhost/replica:0/task:0/device:GPU:0 with 10520 MB memory) -> physical GPU (device: 0, name: Tesla K80, pci bus id: 0000:00:04.0, compute capability: 3.7)\n",
            "/content/HDStyleTransfert/src/images.py:70: MatplotlibDeprecationWarning: Adding an axes using the same arguments as a previous axes currently reuses the earlier instance.  In a future version, a new instance will always be created and returned.  Meanwhile, this warning can be suppressed, and the future behavior ensured, by passing a unique label to each axes instance.\n",
            "  plt.subplot(1, 2, 1)\n",
            "/content/HDStyleTransfert/src/images.py:73: MatplotlibDeprecationWarning: Adding an axes using the same arguments as a previous axes currently reuses the earlier instance.  In a future version, a new instance will always be created and returned.  Meanwhile, this warning can be suppressed, and the future behavior ensured, by passing a unique label to each axes instance.\n",
            "  plt.subplot(1, 2, 2)\n",
            "Epoch 1/5\n",
            "0/5 (  0%) [.                   ] ETA -:--:--2020-05-27 10:37:49.470686: I tensorflow/stream_executor/platform/default/dso_loader.cc:44] Successfully opened dynamic library libcudnn.so.7\n",
            "2020-05-27 10:37:50.367963: I tensorflow/stream_executor/platform/default/dso_loader.cc:44] Successfully opened dynamic library libcublas.so.10\n",
            "5/5 (100%) [....................] Time 0:01:47\n",
            "Epoch: 1/5\n",
            "Epoch 2/5\n",
            "10/10 (100%) [....................] Time 0:01:42\n",
            "Epoch: 2/5\n",
            "Epoch 3/5\n",
            "15/15 (100%) [....................] Time 0:02:33\n",
            "Epoch: 3/5\n",
            "Epoch 4/5\n",
            "20/20 (100%) [....................] Time 0:03:25\n",
            "Epoch: 4/5\n",
            "Epoch 5/5\n",
            "25/25 (100%) [....................] Time 0:04:16\n",
            "Epoch: 5/5\n"
          ],
          "name": "stdout"
        }
      ]
    },
    {
      "cell_type": "markdown",
      "metadata": {
        "id": "eSdrLClkmHaK",
        "colab_type": "text"
      },
      "source": [
        "# Save and download"
      ]
    },
    {
      "cell_type": "code",
      "metadata": {
        "id": "XCJ4cgC3mLBU",
        "colab_type": "code",
        "colab": {
          "base_uri": "https://localhost:8080/",
          "height": 151
        },
        "outputId": "f3077ee7-62cd-4429-a580-4ba3167d1c8b"
      },
      "source": [
        "# Zip it\n",
        "!zip -r results.zip results"
      ],
      "execution_count": 9,
      "outputs": [
        {
          "output_type": "stream",
          "text": [
            "  adding: results/ (stored 0%)\n",
            "  adding: results/YellowLabradorLooking_new/ (stored 0%)\n",
            "  adding: results/YellowLabradorLooking_new/kandinsky5/ (stored 0%)\n",
            "  adding: results/YellowLabradorLooking_new/kandinsky5/step_20.png (deflated 0%)\n",
            "  adding: results/YellowLabradorLooking_new/kandinsky5/step_15.png (deflated 0%)\n",
            "  adding: results/YellowLabradorLooking_new/kandinsky5/step_5.png (deflated 0%)\n",
            "  adding: results/YellowLabradorLooking_new/kandinsky5/step_25.png (deflated 0%)\n",
            "  adding: results/YellowLabradorLooking_new/kandinsky5/step_10.png (deflated 0%)\n"
          ],
          "name": "stdout"
        }
      ]
    },
    {
      "cell_type": "code",
      "metadata": {
        "id": "PPVwEalKm19x",
        "colab_type": "code",
        "colab": {}
      },
      "source": [
        "# Download it\n",
        "from google.colab import files\n",
        "\n",
        "\n",
        "is_downloaded = False\n",
        "while not is_downloaded:\n",
        "  try:\n",
        "    files.download('results.zip')\n",
        "    is_downloaded = True\n",
        "  except Exception as e:\n",
        "    print(e)"
      ],
      "execution_count": 0,
      "outputs": []
    }
  ]
}