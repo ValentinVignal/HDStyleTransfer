{
  "nbformat": 4,
  "nbformat_minor": 0,
  "metadata": {
    "accelerator": "GPU",
    "colab": {
      "name": "launch_multiple_ST.ipynb",
      "provenance": [],
      "collapsed_sections": [
        "Mx__QaKRSC8F",
        "b3mf6JSLSOMz"
      ],
      "toc_visible": true,
      "machine_shape": "hm",
      "include_colab_link": true
    },
    "kernelspec": {
      "name": "python3",
      "display_name": "Python 3"
    }
  },
  "cells": [
    {
      "cell_type": "markdown",
      "metadata": {
        "id": "view-in-github",
        "colab_type": "text"
      },
      "source": [
        "<a href=\"https://colab.research.google.com/github/ValentinVignal/HDStyleTransfert/blob/master/launch_multiple_ST.ipynb\" target=\"_parent\"><img src=\"https://colab.research.google.com/assets/colab-badge.svg\" alt=\"Open In Colab\"/></a>"
      ]
    },
    {
      "cell_type": "markdown",
      "metadata": {
        "id": "8FE2y9ITR4aR",
        "colab_type": "text"
      },
      "source": [
        "# HD Style Transfert Launcher\n"
      ]
    },
    {
      "cell_type": "markdown",
      "metadata": {
        "id": "UPobx7V7R8kn",
        "colab_type": "text"
      },
      "source": [
        "## Utilisation"
      ]
    },
    {
      "cell_type": "markdown",
      "metadata": {
        "id": "PtNltCZr3Et1",
        "colab_type": "text"
      },
      "source": [
        "1. Create 2 folders on your computers named *content* and *style*\n",
        "2. Put the corresponding images in it\n",
        "3. Create 2 `.zip` files : `content.zip` and `style.zip`\n",
        "4. Import them in the session (column on the left)\n",
        "5. Run everything\n",
        "\n"
      ]
    },
    {
      "cell_type": "markdown",
      "metadata": {
        "id": "Mx__QaKRSC8F",
        "colab_type": "text"
      },
      "source": [
        "## What it does"
      ]
    },
    {
      "cell_type": "markdown",
      "metadata": {
        "id": "EUZbt4x4SBv4",
        "colab_type": "text"
      },
      "source": [
        "It does all the combinaison of the content and style files and do the style transfert. It saves everything in the folder *results* with the architecture:\n",
        "```bash\n",
        "results/\n",
        " |- content_image_name1/\n",
        " |  |- style_image_name1/\n",
        " |  |  |- n_step.png          # The style transfered image at the step n\n",
        " |  |  |- 2n_step.png\n",
        " |  |  |- ...\n",
        " |  |- style_image_name2/\n",
        " |  |  |- n_step.png\n",
        " |  |  |- 2n_step.png\n",
        " |  |  |- ...\n",
        " |  |- ...\n",
        " |- content_image_name2/\n",
        " |  |- style_image_name1/\n",
        " |  |  |- n_step.png\n",
        " |  |  |- 2n_step.png\n",
        " |  |  |- ...\n",
        " |  |- style_image_name2/\n",
        " |  |  |- n_step.png\n",
        " |  |  |- 2n_step.png\n",
        " |  |  |- ...\n",
        " |  |- ...\n",
        " |- ...\n",
        "\n",
        "```"
      ]
    },
    {
      "cell_type": "markdown",
      "metadata": {
        "id": "b3mf6JSLSOMz",
        "colab_type": "text"
      },
      "source": [
        "## To keep environment connected"
      ]
    },
    {
      "cell_type": "markdown",
      "metadata": {
        "id": "q_gyUllGSX0F",
        "colab_type": "text"
      },
      "source": [
        "1. Press `Ctrl` + ` Shift` + `i`\n",
        "2. Go to *Console*\n",
        "3. Paste these lines:\n",
        "  ```javascript\n",
        "  function ClickConnect(){\n",
        "    console.log(\"Working\"); \n",
        "    document.querySelector(\"colab-toolbar-button#connect\").click() \n",
        "  }\n",
        "  setInterval(ClickConnect,60000)\n",
        "  ```\n",
        "4. Press `Enter`"
      ]
    },
    {
      "cell_type": "markdown",
      "metadata": {
        "id": "eH5guWgLR0le",
        "colab_type": "text"
      },
      "source": [
        "# Parameters"
      ]
    },
    {
      "cell_type": "code",
      "metadata": {
        "id": "NGHbMoqbgFDs",
        "colab_type": "code",
        "colab": {}
      },
      "source": [
        "# All the parameters\n",
        "class Parameters:\n",
        "  def __init__(self):\n",
        "    self.style_weight = 1e-2      # Importance of the style\n",
        "    self.content_weight = 1e5     # Importance of the content\n",
        "    self.total_variation_weight = 1e3    # How much to reduce high frequencies\n",
        "\n",
        "    self.ratio_weight = 1e2     # Reduction of smaller sub-images\n",
        "    \n",
        "    self.epochs = 5\n",
        "    self.steps_per_epoch = 5\n",
        "    self.lr = 1e-2\n",
        "\n",
        "    self.style_division = False     # Should we use sub-images of the style image\n",
        "\n",
        "P = Parameters()"
      ],
      "execution_count": 0,
      "outputs": []
    },
    {
      "cell_type": "markdown",
      "metadata": {
        "id": "inoBIf3D9kru",
        "colab_type": "text"
      },
      "source": [
        "resultats OK:\n",
        "```python\n",
        "style_weight = 1e-1\n",
        "content_weight = 1e3\n",
        "total_variation_weight = 1e4\n",
        "\n",
        "ratio_weight = 1e2\n",
        "\n",
        "epochs = 10\n",
        "steps_per_epoch = 20\n",
        "\n",
        "style_division = True\n",
        "```\n",
        "```python\n",
        "style_weight = 1e-1\n",
        "content_weight = 1e5\n",
        "total_variation_weight = 5e3\n",
        "\n",
        "ratio_weight = 1e2\n",
        "\n",
        "epochs = 10\n",
        "steps_per_epoch = 10\n",
        "\n",
        "style_division = False\n",
        "```"
      ]
    },
    {
      "cell_type": "markdown",
      "metadata": {
        "id": "kJreL8dgguxO",
        "colab_type": "text"
      },
      "source": [
        "# Import"
      ]
    },
    {
      "cell_type": "code",
      "metadata": {
        "id": "TntFAJD5eN-N",
        "colab_type": "code",
        "colab": {}
      },
      "source": [
        "try:\n",
        "  # %tensorflow_version only exists in Colab.\n",
        "  %tensorflow_version 2.x\n",
        "except Exception:\n",
        "  pass\n",
        "import tensorflow as tf\n",
        "print(tf.test.gpu_device_name())\n",
        "print('tf version', tf.__version__"
      ],
      "execution_count": 0,
      "outputs": []
    },
    {
      "cell_type": "code",
      "metadata": {
        "id": "MTdbkq1JeHu7",
        "colab_type": "code",
        "colab": {}
      },
      "source": [
        "import os\n",
        "from zipfile import ZipFile\n",
        "import zipfile\n",
        "from pathlib import Path"
      ],
      "execution_count": 0,
      "outputs": []
    },
    {
      "cell_type": "markdown",
      "metadata": {
        "id": "e7XopeFSg6gE",
        "colab_type": "text"
      },
      "source": [
        "# Prepare environment"
      ]
    },
    {
      "cell_type": "code",
      "metadata": {
        "id": "oGjglyoxd1rI",
        "colab_type": "code",
        "colab": {}
      },
      "source": [
        "\n",
        "work_with_labrador = False\n",
        "\n",
        "if work_with_labrador:\n",
        "  Path('content').mkdir(exist_ok=True, parents=True)\n",
        "  Path('style').mkdir(exist_ok=True, parents=True)\n",
        "  \n",
        "  content_path = tf.keras.utils.get_file('YellowLabradorLooking_new.jpg', 'https://storage.googleapis.com/download.tensorflow.org/example_images/YellowLabradorLooking_new.jpg')\n",
        "  os.rename('/root/.keras/datasets/YellowLabradorLooking_new.jpg', 'content/YellowLabradorLooking_new.jpg')\n",
        "  \n",
        "  # https://commons.wikimedia.org/wiki/File:Vassily_Kandinsky,_1913_-_Composition_7.jpg\n",
        "  style_path = tf.keras.utils.get_file('kandinsky5.jpg','https://storage.googleapis.com/download.tensorflow.org/example_images/Vassily_Kandinsky%2C_1913_-_Composition_7.jpg')\n",
        "  os.rename('/root/.keras/datasets/kandinsky5.jpg', 'style/kandinsky5.jpg')\n",
        "else:\n",
        "  # TODO: unzip the folders\n",
        "  with ZipFile('content.zip', 'r') as zip_ref:\n",
        "    zip_ref.extractall('./')\n",
        "  with ZipFile('style.zip', 'r') as zip_ref:\n",
        "    zip_ref.extractall('./')\n",
        "\n",
        "content_path = [Path('content') / f for f in os.listdir('content')]\n",
        "style_path = [Path('style') / f for f in os.listdir('style')]"
      ],
      "execution_count": 0,
      "outputs": []
    },
    {
      "cell_type": "markdown",
      "metadata": {
        "id": "PhTfC-3AbZ9i",
        "colab_type": "text"
      },
      "source": [
        "Save the parameters so the launched codes can open it"
      ]
    },
    {
      "cell_type": "code",
      "metadata": {
        "id": "1r7v2mXZbXSo",
        "colab_type": "code",
        "colab": {}
      },
      "source": [
        "import pickle\n",
        "\n",
        "with open('parameters.p', 'wb') as dump_file:\n",
        "  pickle.dump(dict(\n",
        "      P=P,\n",
        "  ), dump_file)"
      ],
      "execution_count": 0,
      "outputs": []
    },
    {
      "cell_type": "markdown",
      "metadata": {
        "id": "3mTGWz2XhEAO",
        "colab_type": "text"
      },
      "source": [
        "Download .ipynb"
      ]
    },
    {
      "cell_type": "code",
      "metadata": {
        "id": "_z8Z9va6gJfd",
        "colab_type": "code",
        "colab": {
          "base_uri": "https://localhost:8080/",
          "height": 204
        },
        "outputId": "63017fa5-f45d-4923-f56b-11ce8bb02992"
      },
      "source": [
        "!wget https://raw.githubusercontent.com/ValentinVignal/HDStyleTransfert/master/usable_multiple_style_transfert.ipynb"
      ],
      "execution_count": 4,
      "outputs": [
        {
          "output_type": "stream",
          "text": [
            "--2020-02-29 15:12:38--  https://raw.githubusercontent.com/ValentinVignal/HDStyleTransfert/master/usable_multiple_style_transfert.ipynb\n",
            "Resolving raw.githubusercontent.com (raw.githubusercontent.com)... 151.101.0.133, 151.101.64.133, 151.101.128.133, ...\n",
            "Connecting to raw.githubusercontent.com (raw.githubusercontent.com)|151.101.0.133|:443... connected.\n",
            "HTTP request sent, awaiting response... 200 OK\n",
            "Length: 882528 (862K) [text/plain]\n",
            "Saving to: ‘usable_multiple_style_transfert.ipynb’\n",
            "\n",
            "\r          usable_mu   0%[                    ]       0  --.-KB/s               \rusable_multiple_sty 100%[===================>] 861.84K  --.-KB/s    in 0.04s   \n",
            "\n",
            "2020-02-29 15:12:38 (19.2 MB/s) - ‘usable_multiple_style_transfert.ipynb’ saved [882528/882528]\n",
            "\n"
          ],
          "name": "stdout"
        }
      ]
    },
    {
      "cell_type": "markdown",
      "metadata": {
        "id": "5o_691oNhS7M",
        "colab_type": "text"
      },
      "source": [
        "# Run the scripts"
      ]
    },
    {
      "cell_type": "code",
      "metadata": {
        "id": "DE7v7eVbhSc7",
        "colab_type": "code",
        "colab": {}
      },
      "source": [
        ""
      ],
      "execution_count": 0,
      "outputs": []
    }
  ]
}